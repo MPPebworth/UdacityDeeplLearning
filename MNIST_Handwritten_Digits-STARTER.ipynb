{
 "cells": [
  {
   "cell_type": "markdown",
   "metadata": {},
   "source": [
    "# Introduction\n",
    "\n",
    "In this project, you will build a neural network of your own design to evaluate the MNIST dataset.\n",
    "\n",
    "Some of the benchmark results on MNIST include can be found [on Yann LeCun's page](http://yann.lecun.com/exdb/mnist/) and include:\n",
    "\n",
    "88% [Lecun et al., 1998](http://yann.lecun.com/exdb/publis/pdf/lecun-98.pdf)\n",
    "95.3% [Lecun et al., 1998](http://yann.lecun.com/exdb/publis/pdf/lecun-98.pdf)\n",
    "99.65% [Ciresan et al., 2011](http://people.idsia.ch/~juergen/ijcai2011.pdf)\n",
    "\n",
    "MNIST is a great dataset for sanity checking your models, since the accuracy levels achieved by large convolutional neural networks and small linear models are both quite high. This makes it important to be familiar with the data.\n",
    "\n",
    "## Imports"
   ]
  },
  {
   "cell_type": "code",
   "execution_count": 7,
   "metadata": {},
   "outputs": [],
   "source": [
    "## This cell contains the essential imports you will need – DO NOT CHANGE THE CONTENTS! ##\n",
    "import torch\n",
    "import torch.nn as nn\n",
    "import torch.nn.functional as F\n",
    "import torch.optim as optim\n",
    "import torchvision\n",
    "import torchvision.transforms as transforms\n",
    "import matplotlib.pyplot as plt\n",
    "import numpy as np"
   ]
  },
  {
   "cell_type": "code",
   "execution_count": 2,
   "metadata": {},
   "outputs": [],
   "source": [
    "#!pip install ipywidgets"
   ]
  },
  {
   "cell_type": "markdown",
   "metadata": {},
   "source": [
    "## Load the Dataset\n",
    "\n",
    "Specify your transforms as a list if you intend to .\n",
    "The transforms module is already loaded as `transforms`.\n",
    "\n",
    "MNIST is fortunately included in the torchvision module.\n",
    "Then, you can create your dataset using the `MNIST` object from `torchvision.datasets` ([the documentation is available here](https://pytorch.org/vision/stable/datasets.html#mnist)).\n",
    "Make sure to specify `download=True`! \n",
    "\n",
    "Once your dataset is created, you'll also need to define a `DataLoader` from the `torch.utils.data` module for both the train and the test set."
   ]
  },
  {
   "cell_type": "code",
   "execution_count": 3,
   "metadata": {},
   "outputs": [
    {
     "name": "stderr",
     "output_type": "stream",
     "text": [
      "/opt/conda/lib/python3.7/site-packages/torchvision/datasets/mnist.py:498: UserWarning: The given NumPy array is not writable, and PyTorch does not support non-writable tensors. This means writing to this tensor will result in undefined behavior. You may want to copy the array to protect its data or make it writable before converting it to a tensor. This type of warning will be suppressed for the rest of this program. (Triggered internally at  ../torch/csrc/utils/tensor_numpy.cpp:178.)\n",
      "  return torch.from_numpy(parsed.astype(m[2], copy=False)).view(*s)\n"
     ]
    }
   ],
   "source": [
    "# Define transforms\n",
    "## YOUR CODE HERE ##\n",
    "transform = transforms.Compose([transforms.ToTensor(), transforms.Normalize((0.5),(0.5))])\n",
    "\n",
    "# Create training set and define training dataloader\n",
    "## YOUR CODE HERE ##\n",
    "\n",
    "dataset = torchvision.datasets.MNIST(root = 'data', download = True, train = True, transform = transform)\n",
    "train_subset, val_subset = torch.utils.data.random_split(dataset, [int(len(dataset) * 0.8), int(len(dataset) * 0.2)])\n",
    "\n",
    "data_loader = torch.utils.data.DataLoader(train_subset, batch_size = 64, shuffle = True)\n",
    "val_loader = torch.utils.data.DataLoader(val_subset, batch_size = 64, shuffle = True)\n"
   ]
  },
  {
   "cell_type": "markdown",
   "metadata": {},
   "source": [
    "## Justify your preprocessing\n",
    "\n",
    "In your own words, why did you choose the transforms you chose? If you didn't use any preprocessing steps, why not?"
   ]
  },
  {
   "cell_type": "markdown",
   "metadata": {},
   "source": [
    "**DOUBLE CLICK THIS CELL TO MODIFY**\n",
    "\n",
    "I transformed the data into a tensor and then normalized it between -1 and 1, so that it would better work with activation functions. "
   ]
  },
  {
   "cell_type": "markdown",
   "metadata": {},
   "source": [
    "## Explore the Dataset\n",
    "Using matplotlib, numpy, and torch, explore the dimensions of your data.\n",
    "\n",
    "You can view images using the `show5` function defined below – it takes a data loader as an argument.\n",
    "Remember that normalized images will look really weird to you! You may want to try changing your transforms to view images.\n",
    "Typically using no transforms other than `toTensor()` works well for viewing – but not as well for training your network.\n",
    "If `show5` doesn't work, go back and check your code for creating your data loaders and your training/test sets."
   ]
  },
  {
   "cell_type": "code",
   "execution_count": 4,
   "metadata": {},
   "outputs": [],
   "source": [
    "## This cell contains a function for showing 5 images from a dataloader – DO NOT CHANGE THE CONTENTS! ##\n",
    "def show5(img_loader):\n",
    "    dataiter = iter(img_loader)\n",
    "    \n",
    "    batch = next(dataiter)\n",
    "    labels = batch[1][0:5]\n",
    "    images = batch[0][0:5]\n",
    "    for i in range(5):\n",
    "        print(int(labels[i].detach()))\n",
    "    \n",
    "        image = images[i].numpy()\n",
    "        plt.imshow(image.T.squeeze().T)\n",
    "        plt.show()"
   ]
  },
  {
   "cell_type": "code",
   "execution_count": 5,
   "metadata": {},
   "outputs": [
    {
     "name": "stdout",
     "output_type": "stream",
     "text": [
      "7\n"
     ]
    },
    {
     "data": {
      "image/png": "[encoded data removed]",
      "text/plain": [
       "<Figure size 432x288 with 1 Axes>"
      ]
     },
     "metadata": {
      "needs_background": "light"
     },
     "output_type": "display_data"
    },
    {
     "name": "stdout",
     "output_type": "stream",
     "text": [
      "1\n"
     ]
    },
    {
     "data": {
      "image/png": "[encoded data removed]",
      "text/plain": [
       "<Figure size 432x288 with 1 Axes>"
      ]
     },
     "metadata": {
      "needs_background": "light"
     },
     "output_type": "display_data"
    },
    {
     "name": "stdout",
     "output_type": "stream",
     "text": [
      "0\n"
     ]
    },
    {
     "data": {
      "image/png": "[encoded data removed]",
      "text/plain": [
       "<Figure size 432x288 with 1 Axes>"
      ]
     },
     "metadata": {
      "needs_background": "light"
     },
     "output_type": "display_data"
    },
    {
     "name": "stdout",
     "output_type": "stream",
     "text": [
      "8\n"
     ]
    },
    {
     "data": {
      "image/png": "[encoded data removed]",
      "text/plain": [
       "<Figure size 432x288 with 1 Axes>"
      ]
     },
     "metadata": {
      "needs_background": "light"
     },
     "output_type": "display_data"
    },
    {
     "name": "stdout",
     "output_type": "stream",
     "text": [
      "4\n"
     ]
    },
    {
     "data": {
      "image/png": "[encoded data removed]",
      "text/plain": [
       "<Figure size 432x288 with 1 Axes>"
      ]
     },
     "metadata": {
      "needs_background": "light"
     },
     "output_type": "display_data"
    }
   ],
   "source": [
    "# Explore data\n",
    "show5(data_loader)"
   ]
  },
  {
   "cell_type": "markdown",
   "metadata": {},
   "source": [
    "## Build your Neural Network\n",
    "Using the layers in `torch.nn` (which has been imported as `nn`) and the `torch.nn.functional` module (imported as `F`), construct a neural network based on the parameters of the dataset.\n",
    "Use any architecture you like. \n",
    "\n",
    "*Note*: If you did not flatten your tensors in your transforms or as part of your preprocessing and you are using only `Linear` layers, make sure to use the `Flatten` layer in your network!"
   ]
  },
  {
   "cell_type": "code",
   "execution_count": 30,
   "metadata": {},
   "outputs": [
    {
     "data": {
      "text/plain": [
       "12544"
      ]
     },
     "execution_count": 30,
     "metadata": {},
     "output_type": "execute_result"
    }
   ],
   "source": [
    "28*28*16"
   ]
  },
  {
   "cell_type": "code",
   "execution_count": 14,
   "metadata": {},
   "outputs": [],
   "source": [
    "class Net(nn.Module):\n",
    "    def __init__(self):\n",
    "        super(Net, self).__init__()\n",
    "        \n",
    "        self.activation = F.relu\n",
    "        \n",
    "        #self.conv1 = nn.Sequential(\n",
    "        #    nn.Conv2d(1,16,5, padding = 2), #28 x 28\n",
    "        #    nn.MaxPool2d(2,2), #14 x 14\n",
    "        #    nn.ReLU(),\n",
    "        #    nn.BatchNorm2d(16),\n",
    "        #    nn.Dropout2d(0.2),\n",
    "        #    nn.Conv2d(16,32,5, padding = 2), #14, 14\n",
    "        #    nn.MaxPool2d(2,2),\n",
    "        #    nn.ReLU(),\n",
    "        #    nn.BatchNorm2d(32),\n",
    "        #    nn.Dropout2d(0.2)\n",
    "        #)\n",
    "        \n",
    "        self.layer1 = nn.Sequential(\n",
    "            nn.Linear(784,200),\n",
    "            nn.BatchNorm1d(200),\n",
    "            nn.ReLU(),\n",
    "            nn.Dropout(0.5)\n",
    "        )\n",
    "        self.layer2 = nn.Sequential(\n",
    "            nn.Linear(200,80),\n",
    "            nn.BatchNorm1d(80),\n",
    "            nn.ReLU(),\n",
    "            nn.Dropout(0.5)\n",
    "        )\n",
    "        self.layer3 = nn.Sequential(\n",
    "            nn.Linear(80,40),\n",
    "            nn.BatchNorm1d(40),\n",
    "            nn.ReLU(),\n",
    "            nn.Dropout(0.5)\n",
    "        )\n",
    "        self.layer4 = nn.Sequential(\n",
    "            nn.Linear(40,20),\n",
    "            nn.BatchNorm1d(20),\n",
    "            nn.ReLU(),\n",
    "            nn.Dropout(0.5)\n",
    "        )\n",
    "        self.layer5 = nn.Linear(20,10)\n",
    "        \n",
    "    def forward(self, x):\n",
    "        \n",
    "        #x = self.dropout2D(self.conv(x))\n",
    "        #x = self.activation(x)\n",
    "        #x = self.conv1(x)\n",
    "        x = torch.flatten(x,start_dim = 1)\n",
    "        x = self.layer1(x)\n",
    "        x = self.layer2(x)\n",
    "        x = self.layer3(x)\n",
    "        x = self.layer4(x)\n",
    "        x = self.layer5(x)\n",
    "        return(x)\n",
    "    "
   ]
  },
  {
   "cell_type": "markdown",
   "metadata": {},
   "source": [
    "Specify a loss function and an optimizer, and instantiate the model.\n",
    "\n",
    "If you use a less common loss function, please note why you chose that loss function in a comment."
   ]
  },
  {
   "cell_type": "code",
   "execution_count": 15,
   "metadata": {},
   "outputs": [],
   "source": [
    "model = Net()\n",
    "\n",
    "if torch.cuda.is_available():\n",
    "    model = model.to('cuda') "
   ]
  },
  {
   "cell_type": "code",
   "execution_count": 16,
   "metadata": {},
   "outputs": [],
   "source": [
    "criterion = nn.CrossEntropyLoss()\n",
    "\n",
    "optimizer = torch.optim.Adam(model.parameters(), lr =0.001, weight_decay = 0.1, betas = (0.9, 0.999))\n",
    "\n",
    "import multiprocessing\n",
    "\n",
    "n_workers = multiprocessing.cpu_count()"
   ]
  },
  {
   "cell_type": "markdown",
   "metadata": {},
   "source": [
    "## Running your Neural Network\n",
    "Use whatever method you like to train your neural network, and ensure you record the average loss at each epoch. \n",
    "Don't forget to use `torch.device()` and the `.to()` method for both your model and your data if you are using GPU!\n",
    "\n",
    "If you want to print your loss **during** each epoch, you can use the `enumerate` function and print the loss after a set number of batches. 250 batches works well for most people!"
   ]
  },
  {
   "cell_type": "markdown",
   "metadata": {},
   "source": [
    "Plot the training loss (and validation loss/accuracy, if recorded)."
   ]
  },
  {
   "cell_type": "code",
   "execution_count": 17,
   "metadata": {},
   "outputs": [
    {
     "name": "stdout",
     "output_type": "stream",
     "text": [
      "Epoch 1 training accuracy: 30.70% training loss: 1.72754\n",
      "Epoch 1: validation accuracy 42.91%, validation loss 1.51589\n",
      "Epoch 2 training accuracy: 27.67% training loss: 1.52571\n",
      "Epoch 2: validation accuracy 41.98%, validation loss 0.95416\n",
      "Epoch 3 training accuracy: 47.51% training loss: 0.76049\n",
      "Epoch 3: validation accuracy 50.34%, validation loss 0.68254\n",
      "Epoch 4 training accuracy: 50.92% training loss: 0.64889\n",
      "Epoch 4: validation accuracy 50.98%, validation loss 0.66253\n",
      "Epoch 5 training accuracy: 52.76% training loss: 0.58705\n",
      "Epoch 5: validation accuracy 52.44%, validation loss 0.59521\n",
      "Epoch 6 training accuracy: 53.43% training loss: 0.56131\n",
      "Epoch 6: validation accuracy 50.63%, validation loss 0.64953\n",
      "Epoch 7 training accuracy: 53.62% training loss: 0.55330\n",
      "Epoch 7: validation accuracy 52.12%, validation loss 0.59134\n",
      "Epoch 8 training accuracy: 53.55% training loss: 0.55734\n",
      "Epoch 8: validation accuracy 54.06%, validation loss 0.54284\n",
      "Epoch 9 training accuracy: 53.73% training loss: 0.54837\n",
      "Epoch 9: validation accuracy 53.61%, validation loss 0.57279\n",
      "Epoch 10 training accuracy: 53.70% training loss: 0.55046\n",
      "Epoch 10: validation accuracy 52.77%, validation loss 0.58304\n"
     ]
    }
   ],
   "source": [
    "epochNumber = 10\n",
    "\n",
    "model.train()\n",
    "\n",
    "# Establish a list for our history\n",
    "trainLoss_history = list()\n",
    "valLoss_history = list()\n",
    "patience = 5\n",
    "tally = 0\n",
    "\n",
    "for epoch in range(epochNumber):\n",
    "    \n",
    "    #set train loss to zero to start\n",
    "    trainLoss = 0.0\n",
    "    trainCorrect = 0\n",
    "    ## Train the model\n",
    "    for batchNum, data in enumerate(data_loader):\n",
    "\n",
    "        inputs, target = data\n",
    "        \n",
    "        if torch.cuda.is_available():\n",
    "            inputs, target = inputs.to('cuda'), target.to('cuda') \n",
    "        \n",
    "        optimizer.zero_grad()\n",
    "        output = model(inputs)\n",
    "        \n",
    "        loss = criterion(output, target)\n",
    "        loss.backward()\n",
    "        optimizer.step()\n",
    "        \n",
    "        _, preds = torch.max(output.data, 1)\n",
    "        trainCorrect += (preds == target).sum().item()\n",
    "        trainLoss += loss.item()\n",
    "    \n",
    "    print(f'Epoch {epoch + 1} training accuracy: {trainCorrect/len(data_loader):.2f}% training loss: {trainLoss/len(data_loader):.5f}')\n",
    "    trainLoss_history.append(trainLoss/len(data_loader))\n",
    "    \n",
    "    #now validation\n",
    "    with torch.no_grad():\n",
    "        \n",
    "        model.eval()\n",
    "        \n",
    "        validLoss = 0\n",
    "        ValCorrect = 0\n",
    "        for batchNum, data in enumerate(val_loader):\n",
    "            \n",
    "            inputs, target = data\n",
    "            if torch.cuda.is_available():\n",
    "                inputs, target = inputs.to('cuda'), target.to('cuda') \n",
    "            \n",
    "            testOut = model(inputs)\n",
    "            loss_valid = criterion(testOut, target)\n",
    "            \n",
    "            _, preds = torch.max(testOut.data, 1)\n",
    "            validLoss += loss_valid.data.item()\n",
    "            ValCorrect += (preds == target).sum().item()\n",
    "            \n",
    "    print(f\"Epoch {epoch+1}: validation accuracy { ValCorrect/len(val_loader):.2f}%, validation loss {validLoss/len(val_loader):.5f}\")\n",
    "    \n",
    "    if epoch > 0:\n",
    "        if valLoss_history[-1] < validLoss/len(val_loader) :\n",
    "            tally += 1\n",
    "        if tally >= patience:\n",
    "            break\n",
    "    \n",
    "    valLoss_history.append(validLoss/len(val_loader))\n",
    "    \n",
    "    \n",
    "\n",
    "            "
   ]
  },
  {
   "cell_type": "code",
   "execution_count": 18,
   "metadata": {},
   "outputs": [
    {
     "data": {
      "image/png": "[encoded data removed]",
      "text/plain": [
       "<Figure size 432x288 with 1 Axes>"
      ]
     },
     "metadata": {
      "needs_background": "light"
     },
     "output_type": "display_data"
    }
   ],
   "source": [
    "plt.plot(trainLoss_history, label=\"Training Loss\")\n",
    "plt.plot(valLoss_history, label=\"Validation Loss\")\n",
    "plt.legend()\n",
    "plt.show()"
   ]
  },
  {
   "cell_type": "markdown",
   "metadata": {},
   "source": [
    "## Testing your model\n",
    "Using the previously created `DataLoader` for the test set, compute the percentage of correct predictions using the highest probability prediction. \n",
    "\n",
    "If your accuracy is over 90%, great work, but see if you can push a bit further! \n",
    "If your accuracy is under 90%, you'll need to make improvements.\n",
    "Go back and check your model architecture, loss function, and optimizer to make sure they're appropriate for an image classification task."
   ]
  },
  {
   "cell_type": "code",
   "execution_count": null,
   "metadata": {},
   "outputs": [],
   "source": [
    "# Create test set and define test dataloader\n",
    "testset = torchvision.datasets.MNIST(root = 'data', download = True, train = False, transform = transform)\n",
    "test_loader = torch.utils.data.DataLoader(testset, batch_size = 32, shuffle = True)\n",
    "#now validation\n",
    "with torch.no_grad():\n",
    "    model.eval()\n",
    "    trainCorrect = 0\n",
    "    validLoss = 0\n",
    "    for batchNum, data in enumerate(test_loader):\n",
    "\n",
    "        inputs, target = data\n",
    "        if torch.cuda.is_available():\n",
    "            inputs, target = inputs.to('cuda'), target.to('cuda') \n",
    "\n",
    "        testOut = model(inputs)\n",
    "        loss_test = criterion(testOut, target)\n",
    "        trainCorrect += (preds == target).sum().item()\n",
    "        \n",
    "print(f\"Testing loss {loss_test:.5f}, Testing accuracy {trainCorrect/len(test_loader):.5f\"}\")"
   ]
  },
  {
   "cell_type": "markdown",
   "metadata": {},
   "source": [
    "## Improving your model\n",
    "\n",
    "Once your model is done training, try tweaking your hyperparameters and training again below to improve your accuracy on the test set!"
   ]
  },
  {
   "cell_type": "code",
   "execution_count": null,
   "metadata": {},
   "outputs": [],
   "source": [
    "## YOUR CODE HERE ##"
   ]
  },
  {
   "cell_type": "markdown",
   "metadata": {},
   "source": [
    "## Saving your model\n",
    "Using `torch.save`, save your model for future loading."
   ]
  },
  {
   "cell_type": "code",
   "execution_count": null,
   "metadata": {},
   "outputs": [],
   "source": [
    "## YOUR CODE HERE ##"
   ]
  }
 ],
 "metadata": {
  "kernelspec": {
   "display_name": "Python 3",
   "language": "python",
   "name": "python3"
  },
  "language_info": {
   "codemirror_mode": {
    "name": "ipython",
    "version": 3
   },
   "file_extension": ".py",
   "mimetype": "text/x-python",
   "name": "python",
   "nbconvert_exporter": "python",
   "pygments_lexer": "ipython3",
   "version": "3.7.6"
  }
 },
 "nbformat": 4,
 "nbformat_minor": 4
}
